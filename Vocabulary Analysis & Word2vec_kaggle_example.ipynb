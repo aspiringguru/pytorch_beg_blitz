{
 "cells": [
  {
   "cell_type": "markdown",
   "metadata": {},
   "source": [
    "https://www.kaggle.com/sunnysai12345/vocabulary-analysis-word2vec  \n",
    "https://github.com/sunnysai12345/News_Summary"
   ]
  },
  {
   "cell_type": "code",
   "execution_count": 1,
   "metadata": {},
   "outputs": [],
   "source": [
    "import numpy as np # linear algebra\n",
    "import pandas as pd # data processing, CSV file I/O (e.g. pd.read_csv)\n"
   ]
  },
  {
   "cell_type": "code",
   "execution_count": 3,
   "metadata": {},
   "outputs": [
    {
     "name": "stdout",
     "output_type": "stream",
     "text": [
      "eng-fra.txt\n",
      "names\n",
      "news_summary.csv\n",
      "\n"
     ]
    }
   ],
   "source": [
    "from subprocess import check_output\n",
    "print(check_output([\"ls\", \"./data/\"]).decode(\"utf8\"))"
   ]
  },
  {
   "cell_type": "code",
   "execution_count": 6,
   "metadata": {},
   "outputs": [
    {
     "name": "stdout",
     "output_type": "stream",
     "text": [
      "1.8.0\n"
     ]
    }
   ],
   "source": [
    "#Load required libraries\n",
    "import numpy as np\n",
    "import pandas as pd\n",
    "#For displaying complete rows info\n",
    "pd.options.display.max_colwidth=500\n",
    "import tensorflow as tf\n",
    "import spacy\n",
    "from nltk.tokenize import sent_tokenize, word_tokenize\n",
    "from nltk.corpus import stopwords\n",
    "from collections import Counter\n",
    "print(tf.__version__)"
   ]
  },
  {
   "cell_type": "code",
   "execution_count": 8,
   "metadata": {},
   "outputs": [
    {
     "name": "stdout",
     "output_type": "stream",
     "text": [
      "The Administration of Union Territory Daman and Diu has revoked its order that made it compulsory for women to tie rakhis to their male colleagues on the occasion of Rakshabandhan on August 7. The administration was forced to withdraw the decision within 24 hours of issuing the circular after it received flak from employees and was slammed on social media. \n",
      " The Daman and Diu administration on Wednesday withdrew a circular that asked women staff to tie rakhis on male colleagues after the order triggered a backlash from employees and was ripped apart on social media.The union territory?s administration was forced to retreat within 24 hours of issuing the circular that made it compulsory for its staff to celebrate Rakshabandhan at workplace.?It has been decided to celebrate the festival of Rakshabandhan on August 7. In this connection, all offices/ departments shall remain open and celebrate the festival collectively at a suitable time wherein all the lady staff shall tie rakhis to their colleagues,? the order, issued on August 1 by Gurpreet Singh, deputy secretary (personnel), had said.To ensure that no one skipped office, an attendance report was to be sent to the government the next evening.The two notifications ? one mandating the celebration of Rakshabandhan (left) and the other withdrawing the mandate (right) ? were issued by the Daman and Diu administration a day apart. The circular was withdrawn through a one-line order issued late in the evening by the UT?s department of personnel and administrative reforms.?The circular is ridiculous. There are sensitivities involved. How can the government dictate who I should tie rakhi to? We should maintain the professionalism of a workplace? an official told Hindustan Times earlier in the day. She refused to be identified.The notice was issued on Daman and Diu administrator and former Gujarat home minister Praful Kodabhai Patel?s direction, sources said.Rakshabandhan, a celebration of the bond between brothers and sisters, is one of several Hindu festivities and rituals that are no longer confined of private, family affairs but have become tools to push politic al ideologies.In 2014, the year BJP stormed to power at the Centre, Rashtriya Swayamsevak Sangh (RSS) chief Mohan Bhagwat said the festival had ?national significance? and should be celebrated widely ?to protect Hindu culture and live by the values enshrined in it?. The RSS is the ideological parent of the ruling BJP.Last year, women ministers in the Modi government went to the border areas to celebrate the festival with soldiers. A year before, all cabinet ministers were asked to go to their constituencies for the festival.\n"
     ]
    }
   ],
   "source": [
    "#Load data into pandas dataframe\n",
    "df=pd.read_csv(\"./data/news_summary.csv\",encoding=\"latin1\")\n",
    "print(df[\"text\"][0],\"\\n\",df[\"ctext\"][0])"
   ]
  },
  {
   "cell_type": "code",
   "execution_count": 9,
   "metadata": {},
   "outputs": [],
   "source": [
    "#Properly formatted data removing nans\n",
    "df.drop_duplicates(subset=[\"ctext\"],inplace=True)\n",
    "df.dropna(inplace=True)\n",
    "df.reset_index(drop=True,inplace=True)"
   ]
  },
  {
   "cell_type": "code",
   "execution_count": 10,
   "metadata": {},
   "outputs": [
    {
     "data": {
      "text/html": [
       "<div>\n",
       "<style scoped>\n",
       "    .dataframe tbody tr th:only-of-type {\n",
       "        vertical-align: middle;\n",
       "    }\n",
       "\n",
       "    .dataframe tbody tr th {\n",
       "        vertical-align: top;\n",
       "    }\n",
       "\n",
       "    .dataframe thead th {\n",
       "        text-align: right;\n",
       "    }\n",
       "</style>\n",
       "<table border=\"1\" class=\"dataframe\">\n",
       "  <thead>\n",
       "    <tr style=\"text-align: right;\">\n",
       "      <th></th>\n",
       "      <th>author</th>\n",
       "      <th>date</th>\n",
       "      <th>headlines</th>\n",
       "      <th>read_more</th>\n",
       "      <th>text</th>\n",
       "      <th>ctext</th>\n",
       "    </tr>\n",
       "  </thead>\n",
       "  <tbody>\n",
       "    <tr>\n",
       "      <th>count</th>\n",
       "      <td>4341</td>\n",
       "      <td>4341</td>\n",
       "      <td>4341</td>\n",
       "      <td>4341</td>\n",
       "      <td>4341</td>\n",
       "      <td>4341</td>\n",
       "    </tr>\n",
       "    <tr>\n",
       "      <th>unique</th>\n",
       "      <td>45</td>\n",
       "      <td>240</td>\n",
       "      <td>4341</td>\n",
       "      <td>4341</td>\n",
       "      <td>4341</td>\n",
       "      <td>4341</td>\n",
       "    </tr>\n",
       "    <tr>\n",
       "      <th>top</th>\n",
       "      <td>Chhavi Tyagi</td>\n",
       "      <td>19 Jul 2017,Wednesday</td>\n",
       "      <td>Woman's headless body found in a suitcase in Mumbai</td>\n",
       "      <td>http://www.hindustantimes.com/bollywood/political-biopics-have-become-radioactive-says-siddharth-roy-kapur/story-R1ZZW4yjc0pOKaSbvGfM4H.html?utm_source=inshorts&amp;utm_medium=referral&amp;utm_campaign=fullarticle</td>\n",
       "      <td>AIADMK Rajya Sabha MP SR Balasubramanian has condemned the involvement of CRPF forces by the Income Tax Department during raids at former Tamil Nadu Chief Secretary Ram Mohan Rao's office. Balasubramanian said that the I-T could have obtained the state police's assistance for the raids as deploying CRPF for protection gave the impression that the state's police force was unreliable.</td>\n",
       "      <td>The Supreme Court today said the Aadhaar card can't be made mandatory by the government for extending the benefits of its welfare schemes to the people.The apex court, however, said the government cannot be stopped from using Aadhaar - or the the unique identification number - in other schemes like the opening of bank accounts.Last week, Finance Minister Arun Jaitley had said the Aadhaar card may become the only identity card in future, and will be mandatory for filing of Income Tax returns ...</td>\n",
       "    </tr>\n",
       "    <tr>\n",
       "      <th>freq</th>\n",
       "      <td>537</td>\n",
       "      <td>76</td>\n",
       "      <td>1</td>\n",
       "      <td>1</td>\n",
       "      <td>1</td>\n",
       "      <td>1</td>\n",
       "    </tr>\n",
       "  </tbody>\n",
       "</table>\n",
       "</div>"
      ],
      "text/plain": [
       "              author                   date  \\\n",
       "count           4341                   4341   \n",
       "unique            45                    240   \n",
       "top     Chhavi Tyagi  19 Jul 2017,Wednesday   \n",
       "freq             537                     76   \n",
       "\n",
       "                                                  headlines  \\\n",
       "count                                                  4341   \n",
       "unique                                                 4341   \n",
       "top     Woman's headless body found in a suitcase in Mumbai   \n",
       "freq                                                      1   \n",
       "\n",
       "                                                                                                                                                                                                             read_more  \\\n",
       "count                                                                                                                                                                                                             4341   \n",
       "unique                                                                                                                                                                                                            4341   \n",
       "top     http://www.hindustantimes.com/bollywood/political-biopics-have-become-radioactive-says-siddharth-roy-kapur/story-R1ZZW4yjc0pOKaSbvGfM4H.html?utm_source=inshorts&utm_medium=referral&utm_campaign=fullarticle    \n",
       "freq                                                                                                                                                                                                                 1   \n",
       "\n",
       "                                                                                                                                                                                                                                                                                                                                                                                                     text  \\\n",
       "count                                                                                                                                                                                                                                                                                                                                                                                                4341   \n",
       "unique                                                                                                                                                                                                                                                                                                                                                                                               4341   \n",
       "top     AIADMK Rajya Sabha MP SR Balasubramanian has condemned the involvement of CRPF forces by the Income Tax Department during raids at former Tamil Nadu Chief Secretary Ram Mohan Rao's office. Balasubramanian said that the I-T could have obtained the state police's assistance for the raids as deploying CRPF for protection gave the impression that the state's police force was unreliable.   \n",
       "freq                                                                                                                                                                                                                                                                                                                                                                                                    1   \n",
       "\n",
       "                                                                                                                                                                                                                                                                                                                                                                                                                                                                                                                      ctext  \n",
       "count                                                                                                                                                                                                                                                                                                                                                                                                                                                                                                                  4341  \n",
       "unique                                                                                                                                                                                                                                                                                                                                                                                                                                                                                                                 4341  \n",
       "top     The Supreme Court today said the Aadhaar card can't be made mandatory by the government for extending the benefits of its welfare schemes to the people.The apex court, however, said the government cannot be stopped from using Aadhaar - or the the unique identification number - in other schemes like the opening of bank accounts.Last week, Finance Minister Arun Jaitley had said the Aadhaar card may become the only identity card in future, and will be mandatory for filing of Income Tax returns ...  \n",
       "freq                                                                                                                                                                                                                                                                                                                                                                                                                                                                                                                      1  "
      ]
     },
     "execution_count": 10,
     "metadata": {},
     "output_type": "execute_result"
    }
   ],
   "source": [
    "df.describe()"
   ]
  },
  {
   "cell_type": "code",
   "execution_count": 11,
   "metadata": {},
   "outputs": [],
   "source": [
    "#Using a Generator\n",
    "def readline(data):\n",
    "    for i in range(len(data)):\n",
    "        yield data[i]"
   ]
  },
  {
   "cell_type": "code",
   "execution_count": 13,
   "metadata": {},
   "outputs": [
    {
     "name": "stdout",
     "output_type": "stream",
     "text": [
      "[nltk_data] Downloading package stopwords to /home/ubuntu/nltk_data...\n",
      "[nltk_data]   Unzipping corpora/stopwords.zip.\n"
     ]
    },
    {
     "data": {
      "text/plain": [
       "True"
      ]
     },
     "execution_count": 13,
     "metadata": {},
     "output_type": "execute_result"
    }
   ],
   "source": [
    "import nltk\n",
    "nltk.download('stopwords')"
   ]
  },
  {
   "cell_type": "code",
   "execution_count": 14,
   "metadata": {},
   "outputs": [],
   "source": [
    "stopWords = stopwords.words('english')"
   ]
  },
  {
   "cell_type": "code",
   "execution_count": 21,
   "metadata": {},
   "outputs": [
    {
     "name": "stdout",
     "output_type": "stream",
     "text": [
      "2.0.11\n"
     ]
    }
   ],
   "source": [
    "import spacy\n",
    "from spacy.lang.en import English\n",
    "print (spacy.__version__)"
   ]
  },
  {
   "cell_type": "code",
   "execution_count": 22,
   "metadata": {},
   "outputs": [
    {
     "name": "stdout",
     "output_type": "stream",
     "text": [
      "33682 8523\n"
     ]
    }
   ],
   "source": [
    "headlines=readline(df[\"headlines\"])\n",
    "nlp = English()\n",
    "hvocab=[]\n",
    "for i,headline in enumerate(headlines):\n",
    "    #print (i)\n",
    "    headline=headline.lower()\n",
    "    for token in nlp.tokenizer(headline):\n",
    "        if len(token)>2:\n",
    "            hvocab.append(str(token))\n",
    "print(len(hvocab),len(set(hvocab)))\n",
    "hvocab=list(set(hvocab))"
   ]
  },
  {
   "cell_type": "code",
   "execution_count": 24,
   "metadata": {},
   "outputs": [
    {
     "name": "stdout",
     "output_type": "stream",
     "text": [
      "[nltk_data] Downloading package punkt to /home/ubuntu/nltk_data...\n",
      "[nltk_data]   Unzipping tokenizers/punkt.zip.\n"
     ]
    },
    {
     "data": {
      "text/plain": [
       "True"
      ]
     },
     "execution_count": 24,
     "metadata": {},
     "output_type": "execute_result"
    }
   ],
   "source": [
    "nltk.download('punkt')"
   ]
  },
  {
   "cell_type": "code",
   "execution_count": 25,
   "metadata": {},
   "outputs": [
    {
     "name": "stdout",
     "output_type": "stream",
     "text": [
      "33284 8889\n"
     ]
    }
   ],
   "source": [
    "headlines=readline(df[\"headlines\"])\n",
    "nltk_hvocab=[]\n",
    "for i,headline in enumerate(headlines):\n",
    "    #print (i)\n",
    "    headline=headline.lower()\n",
    "    for token in word_tokenize(headline):\n",
    "        if len(token)>2:\n",
    "            nltk_hvocab.append(token)\n",
    "print(len(nltk_hvocab),len(set(nltk_hvocab)))\n",
    "nltk_hvocab=list(set(nltk_hvocab))"
   ]
  },
  {
   "cell_type": "code",
   "execution_count": 26,
   "metadata": {},
   "outputs": [
    {
     "name": "stdout",
     "output_type": "stream",
     "text": [
      "208816 21434\n"
     ]
    }
   ],
   "source": [
    "text_vocab=[]\n",
    "for i,text in enumerate(df[\"text\"]):\n",
    "    #print (i)\n",
    "    text=text.lower()\n",
    "    for token in word_tokenize(text):\n",
    "        if len(token)>2:\n",
    "            text_vocab.append(token)\n",
    "print(len(text_vocab),len(set(text_vocab)))\n",
    "text_vocab=list(set(text_vocab))"
   ]
  },
  {
   "cell_type": "code",
   "execution_count": 27,
   "metadata": {},
   "outputs": [
    {
     "name": "stdout",
     "output_type": "stream",
     "text": [
      "1209673 59157\n"
     ]
    }
   ],
   "source": [
    "ctext_vocab=[]\n",
    "for i,ctext in enumerate(df[\"ctext\"]):\n",
    "    #print (i)\n",
    "    ctext=ctext.lower()\n",
    "    ctext=ctext.replace(\".\",\" \")\n",
    "    for token in word_tokenize(ctext):\n",
    "        if len(token)>2:\n",
    "            ctext_vocab.append(token)\n",
    "print(len(ctext_vocab),len(set(ctext_vocab)))\n",
    "ctext_vocab=list(set(ctext_vocab))"
   ]
  },
  {
   "cell_type": "code",
   "execution_count": 28,
   "metadata": {},
   "outputs": [
    {
     "name": "stdout",
     "output_type": "stream",
     "text": [
      "89.78258841093589\n"
     ]
    }
   ],
   "source": [
    "count=0\n",
    "for text in text_vocab:\n",
    "    if text in ctext_vocab:\n",
    "        count=count+1\n",
    "#Percentage of words that match between summary and complete article.\n",
    "print((count/len(text_vocab))*100)"
   ]
  },
  {
   "cell_type": "code",
   "execution_count": 30,
   "metadata": {},
   "outputs": [],
   "source": [
    "import gensim\n",
    "import string\n",
    "import re\n",
    "articles_tokens=[]\n",
    "for i in range(len(df[\"ctext\"])):\n",
    "    articles_tokens.append([word for word in word_tokenize(df[\"ctext\"][i].lower().replace(\".\",\" \").translate(string.punctuation)) if len(word)>2])\n",
    "\n",
    "#model = gensim.models.Word2Vec(sentence, min_count=1,size=100,workers=4)"
   ]
  },
  {
   "cell_type": "code",
   "execution_count": 31,
   "metadata": {},
   "outputs": [],
   "source": [
    "model = gensim.models.Word2Vec(articles_tokens, min_count=5,size=100,workers=4)"
   ]
  },
  {
   "cell_type": "code",
   "execution_count": 32,
   "metadata": {},
   "outputs": [],
   "source": [
    "for i,article in enumerate(articles_tokens):\n",
    "    for j,token in enumerate(article):\n",
    "        if len(token)>2 and token not in stopWords:\n",
    "            articles_tokens[i][j]=re.sub(r'[0-9]+',\"NUM\",token)"
   ]
  },
  {
   "cell_type": "code",
   "execution_count": 33,
   "metadata": {},
   "outputs": [
    {
     "data": {
      "text/plain": [
       "[('murder', 0.9713950157165527),\n",
       " ('lodged', 0.9173157215118408),\n",
       " ('assault', 0.9136455655097961),\n",
       " ('sedition', 0.8957984447479248),\n",
       " ('molestation', 0.8900226950645447),\n",
       " ('minor', 0.8887230157852173),\n",
       " ('custody', 0.8855497241020203),\n",
       " ('fir', 0.8830157518386841),\n",
       " ('harassment', 0.8754192590713501),\n",
       " ('custodial', 0.8747273683547974)]"
      ]
     },
     "execution_count": 33,
     "metadata": {},
     "output_type": "execute_result"
    }
   ],
   "source": [
    "model.wv.most_similar(\"rape\")"
   ]
  },
  {
   "cell_type": "code",
   "execution_count": null,
   "metadata": {},
   "outputs": [],
   "source": []
  }
 ],
 "metadata": {
  "kernelspec": {
   "display_name": "Python 3",
   "language": "python",
   "name": "python3"
  },
  "language_info": {
   "codemirror_mode": {
    "name": "ipython",
    "version": 3
   },
   "file_extension": ".py",
   "mimetype": "text/x-python",
   "name": "python",
   "nbconvert_exporter": "python",
   "pygments_lexer": "ipython3",
   "version": "3.6.4"
  }
 },
 "nbformat": 4,
 "nbformat_minor": 2
}
